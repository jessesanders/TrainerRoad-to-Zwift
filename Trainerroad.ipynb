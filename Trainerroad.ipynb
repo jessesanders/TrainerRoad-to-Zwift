{
 "cells": [
  {
   "cell_type": "code",
   "execution_count": null,
   "metadata": {},
   "outputs": [],
   "source": [
    "import logging\n",
    "import os\n",
    "\n",
    "from IPython.display import display, Markdown\n",
    "from decouple import config\n",
    "\n",
    "from trainerroad.Utils.Str import SUCCESS_MARKDOWN_WARNING, FAIL_MARKDOWN_WARNING, OUTPUT_PATH_MARKDOWN_WARNING\n",
    "from trainerroad.Utils.Str import TRAINERROAD_USER, TRAINERROAD_PASSWORD"
   ]
  },
  {
   "cell_type": "code",
   "execution_count": null,
   "metadata": {},
   "outputs": [],
   "source": [
    "from trainerroad.Controller.Zwift import Zwift"
   ]
  },
  {
   "cell_type": "code",
   "execution_count": null,
   "metadata": {
    "pycharm": {
     "name": "#%%\n"
    }
   },
   "outputs": [],
   "source": [
    "os.environ[TRAINERROAD_USER] = \"briebug\"\n",
    "os.environ[TRAINERROAD_PASSWORD] = \"f3We7FdIi&iZ\""
   ]
  },
  {
   "cell_type": "code",
   "execution_count": null,
   "metadata": {
    "pycharm": {
     "name": "#%%\n"
    }
   },
   "outputs": [],
   "source": [
    "START_DATE = \"\"  # By default today's date, date format = \"MM-DD-YY\" For ex: \"12-24-2021\"\n",
    "END_DATE = \"\"  # By default today's date plus 3 years = date format = \"MM-DD-YY\" For ex: \"12-24-2023\"\n",
    "INCLUDE_DATE = False  # if True Download the whole calendar if False, get unique workouts\n",
    "COMPRESS_ZIP = True"
   ]
  },
  {
   "cell_type": "code",
   "execution_count": null,
   "metadata": {
    "pycharm": {
     "name": "#%%\n"
    }
   },
   "outputs": [],
   "source": [
    "zwift_manager = Zwift(username=config(TRAINERROAD_USER), password=config(TRAINERROAD_PASSWORD))"
   ]
  },
  {
   "cell_type": "code",
   "execution_count": null,
   "metadata": {
    "pycharm": {
     "name": "#%%\n"
    },
    "scrolled": true
   },
   "outputs": [],
   "source": [
    "success = await zwift_manager.export_training_plan(start_date=START_DATE, include_date=INCLUDE_DATE, end_date=END_DATE,\n",
    "                                                   compress=COMPRESS_ZIP)\n"
   ]
  },
  {
   "cell_type": "code",
   "execution_count": null,
   "metadata": {
    "pycharm": {
     "name": "#%%\n"
    },
    "scrolled": true
   },
   "outputs": [],
   "source": [
    "display(Markdown(SUCCESS_MARKDOWN_WARNING)) if success else display(\n",
    "    Markdown(FAIL_MARKDOWN_WARNING))\n",
    "display(Markdown(OUTPUT_PATH_MARKDOWN_WARNING.format(zwift_manager.zipfile))) if success else display(\n",
    "    Markdown(\"\"))"
   ]
  }
 ],
 "metadata": {
  "kernelspec": {
   "display_name": "Python 3 (ipykernel)",
   "language": "python",
   "name": "python3"
  },
  "language_info": {
   "codemirror_mode": {
    "name": "ipython",
    "version": 3
   },
   "file_extension": ".py",
   "mimetype": "text/x-python",
   "name": "python",
   "nbconvert_exporter": "python",
   "pygments_lexer": "ipython3",
   "version": "3.10.0"
  }
 },
 "nbformat": 4,
 "nbformat_minor": 1
}
